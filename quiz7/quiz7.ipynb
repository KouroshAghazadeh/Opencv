{
 "cells": [
  {
   "cell_type": "code",
   "execution_count": 2,
   "id": "6ab5c229",
   "metadata": {},
   "outputs": [],
   "source": [
    "import cv2 as cv\n",
    "import numpy as np\n",
    "import matplotlib.pyplot as plt"
   ]
  },
  {
   "cell_type": "code",
   "execution_count": 3,
   "id": "8561761f",
   "metadata": {},
   "outputs": [],
   "source": [
    "cap = cv.VideoCapture(0)\n",
    "lookuptable = np.empty((1,256), 'uint8')\n",
    "\n",
    "while True:\n",
    "    ret, frame = cap.read()\n",
    "    for i in range(256):\n",
    "        lookuptable[0,i] = np.clip(pow(i / 255.0, 0.4) * 255.0, 0, 255)\n",
    "    out = cv.LUT(frame, lookuptable)\n",
    "    cv.imshow(\"frame\", frame)\n",
    "    cv.imshow(\"Output\", out)\n",
    "    if cv.waitKey(1) == ord('q'):\n",
    "        break\n",
    "        \n",
    "cap.release()\n",
    "cv.destroyAllWindows()"
   ]
  },
  {
   "cell_type": "code",
   "execution_count": null,
   "id": "9a7450a7",
   "metadata": {},
   "outputs": [],
   "source": []
  }
 ],
 "metadata": {
  "kernelspec": {
   "display_name": "Python 3 (ipykernel)",
   "language": "python",
   "name": "python3"
  },
  "language_info": {
   "codemirror_mode": {
    "name": "ipython",
    "version": 3
   },
   "file_extension": ".py",
   "mimetype": "text/x-python",
   "name": "python",
   "nbconvert_exporter": "python",
   "pygments_lexer": "ipython3",
   "version": "3.11.3"
  }
 },
 "nbformat": 4,
 "nbformat_minor": 5
}
