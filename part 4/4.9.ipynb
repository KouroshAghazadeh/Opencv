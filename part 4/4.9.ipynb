{
 "cells": [
  {
   "cell_type": "code",
   "execution_count": 1,
   "id": "81e934c1",
   "metadata": {},
   "outputs": [],
   "source": [
    "import cv2 as cv\n",
    "import numpy as np\n",
    "import matplotlib.pyplot as plt\n",
    "from sklearn.cluster import KMeans"
   ]
  },
  {
   "cell_type": "code",
   "execution_count": 3,
   "id": "3c02e81e",
   "metadata": {},
   "outputs": [
    {
     "name": "stderr",
     "output_type": "stream",
     "text": [
      "D:\\Python\\Lib\\site-packages\\sklearn\\cluster\\_kmeans.py:1416: FutureWarning: The default value of `n_init` will change from 10 to 'auto' in 1.4. Set the value of `n_init` explicitly to suppress the warning\n",
      "  super()._check_params_vs_input(X, default_n_init=10)\n"
     ]
    },
    {
     "name": "stdout",
     "output_type": "stream",
     "text": [
      "[[130 189 227]\n",
      " [  2  58  21]\n",
      " [  2 179 245]\n",
      " [ 28  59 184]\n",
      " [ 10 139  77]]\n",
      "[3 3 3 ... 1 1 1]\n"
     ]
    }
   ],
   "source": [
    "n_clusters = 5\n",
    "\n",
    "img = cv.imread(r\"D:\\Opencv\\class.vision-master\\images\\felfel-dolme.jpg\")\n",
    "\n",
    "flat_img = img.reshape((-1, 3))\n",
    "\n",
    "kmeans = KMeans(n_clusters=n_clusters)\n",
    "kmeans.fit(flat_img)\n",
    "\n",
    "dominent_colors = np.array(kmeans.cluster_centers_, dtype='uint8')\n",
    "labels = kmeans.labels_\n",
    "\n",
    "print(dominent_colors)\n",
    "print(labels)"
   ]
  },
  {
   "cell_type": "code",
   "execution_count": 4,
   "id": "e9d5741e",
   "metadata": {},
   "outputs": [
    {
     "data": {
      "text/plain": [
       "array([0.02742493, 0.27922887, 0.33710568, 0.21065073, 0.14558979])"
      ]
     },
     "execution_count": 4,
     "metadata": {},
     "output_type": "execute_result"
    }
   ],
   "source": [
    "percentages = np.bincount(labels)/len(flat_img)\n",
    "percentages"
   ]
  },
  {
   "cell_type": "code",
   "execution_count": 5,
   "id": "2c79706c",
   "metadata": {},
   "outputs": [],
   "source": [
    "p_and_c = zip(percentages, dominent_colors)\n",
    "p_and_c = sorted(p_and_c, reverse=True)"
   ]
  },
  {
   "cell_type": "code",
   "execution_count": 6,
   "id": "212f5eb9",
   "metadata": {},
   "outputs": [
    {
     "data": {
      "image/png": "[encoded data removed]",
      "text/plain": [
       "<Figure size 1200x800 with 5 Axes>"
      ]
     },
     "metadata": {},
     "output_type": "display_data"
    }
   ],
   "source": [
    "block = np.ones((50,50,3), dtype='uint8')\n",
    "plt.figure(figsize=[12,8])\n",
    "\n",
    "for i in range(n_clusters):\n",
    "    plt.subplot(1, n_clusters, i+1)\n",
    "    block[:] = p_and_c[i][1][::-1]\n",
    "    plt.imshow(block)\n",
    "    plt.xticks([])\n",
    "    plt.yticks([])\n",
    "    plt.xlabel(str(round(p_and_c[i][0]*100, 2)) + '%')"
   ]
  },
  {
   "cell_type": "code",
   "execution_count": null,
   "id": "17ad4abb",
   "metadata": {},
   "outputs": [],
   "source": []
  }
 ],
 "metadata": {
  "kernelspec": {
   "display_name": "Python 3 (ipykernel)",
   "language": "python",
   "name": "python3"
  },
  "language_info": {
   "codemirror_mode": {
    "name": "ipython",
    "version": 3
   },
   "file_extension": ".py",
   "mimetype": "text/x-python",
   "name": "python",
   "nbconvert_exporter": "python",
   "pygments_lexer": "ipython3",
   "version": "3.11.3"
  }
 },
 "nbformat": 4,
 "nbformat_minor": 5
}
