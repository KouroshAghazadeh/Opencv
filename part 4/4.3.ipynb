{
 "cells": [
  {
   "cell_type": "code",
   "execution_count": 1,
   "id": "a93e6917",
   "metadata": {},
   "outputs": [],
   "source": [
    "import numpy as np\n",
    "import matplotlib.pyplot as plt\n",
    "import cv2 as cv"
   ]
  },
  {
   "cell_type": "code",
   "execution_count": 4,
   "id": "dc9eaf52",
   "metadata": {},
   "outputs": [],
   "source": [
    "cap = cv.VideoCapture(r\"D:\\Opencv\\class.vision-master\\videos\\blue-track.mp4\")\n",
    "\n",
    "while True:\n",
    "    ret, frame = cap.read()\n",
    "    if not ret:\n",
    "        break\n",
    "    hsv = cv.cvtColor(frame, cv.COLOR_BGR2HSV)\n",
    "    lower_blue = np.array([100, 50, 50])\n",
    "    upper_blue = np.array([130,255,255])\n",
    "    \n",
    "    mask = cv.inRange(hsv, lower_blue, upper_blue)\n",
    "    res = cv.bitwise_and(frame, frame, mask=mask)\n",
    "    \n",
    "    cv.imshow('frame', frame)\n",
    "    cv.imshow('mask', mask)\n",
    "    cv.imshow('res', res)\n",
    "    \n",
    "    k = cv.waitKey(5) & 0xff\n",
    "    if k == 27:\n",
    "        break\n",
    "        \n",
    "cv.destroyAllWindows()\n",
    "cap.release()"
   ]
  },
  {
   "cell_type": "code",
   "execution_count": 8,
   "id": "ca3b0d27",
   "metadata": {},
   "outputs": [
    {
     "name": "stdout",
     "output_type": "stream",
     "text": [
      "[[[120 255 255]]]\n"
     ]
    }
   ],
   "source": [
    "blue = np.array([[[255,0,0]]], 'uint8')\n",
    "\n",
    "hsv_blue = cv.cvtColor(red, cv.COLOR_BGR2HSV)\n",
    "print(hsv_blue)"
   ]
  },
  {
   "cell_type": "code",
   "execution_count": 5,
   "id": "0deef375",
   "metadata": {},
   "outputs": [],
   "source": [
    "cap = cv.VideoCapture(r\"D:\\Opencv\\class.vision-master\\videos\\blue-track.mp4\")\n",
    "\n",
    "while True:\n",
    "    ret, frame = cap.read()\n",
    "    if not ret:\n",
    "        break\n",
    "    hsv = cv.cvtColor(frame, cv.COLOR_BGR2HSV)\n",
    "    lower_blue = np.array([100, 50, 50])\n",
    "    upper_blue = np.array([130,255,255])\n",
    "    \n",
    "    mask = cv.inRange(hsv, lower_blue, upper_blue)\n",
    "    \n",
    "    contours,_ = cv.findContours(mask, cv.RETR_TREE, cv.CHAIN_APPROX_SIMPLE)\n",
    "    centers, radius = cv.minEnclosingCircle(contours[0])\n",
    "    centers = int(centers[0]), int(centers[1])\n",
    "    \n",
    "    radius = int(radius)\n",
    "    \n",
    "    cv.circle(frame, centers, radius, (0,0,255), 2)\n",
    "    \n",
    "    cv.imshow('image', frame)\n",
    "    \n",
    "    k = cv.waitKey(5) & 0xff\n",
    "    if k == 27:\n",
    "        break\n",
    "        \n",
    "cv.destroyAllWindows()\n",
    "cap.release()"
   ]
  },
  {
   "cell_type": "code",
   "execution_count": null,
   "id": "875025e8",
   "metadata": {},
   "outputs": [],
   "source": []
  }
 ],
 "metadata": {
  "kernelspec": {
   "display_name": "Python 3 (ipykernel)",
   "language": "python",
   "name": "python3"
  },
  "language_info": {
   "codemirror_mode": {
    "name": "ipython",
    "version": 3
   },
   "file_extension": ".py",
   "mimetype": "text/x-python",
   "name": "python",
   "nbconvert_exporter": "python",
   "pygments_lexer": "ipython3",
   "version": "3.11.3"
  }
 },
 "nbformat": 4,
 "nbformat_minor": 5
}
