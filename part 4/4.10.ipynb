{
 "cells": [
  {
   "cell_type": "code",
   "execution_count": 4,
   "id": "74229214",
   "metadata": {},
   "outputs": [],
   "source": [
    "import numpy as np\n",
    "import matplotlib.pyplot as plt\n",
    "import cv2 as cv\n",
    "from sklearn.cluster import KMeans"
   ]
  },
  {
   "cell_type": "code",
   "execution_count": 7,
   "id": "48dcc6fa",
   "metadata": {},
   "outputs": [
    {
     "name": "stderr",
     "output_type": "stream",
     "text": [
      "D:\\Python\\Lib\\site-packages\\sklearn\\cluster\\_kmeans.py:1416: FutureWarning: The default value of `n_init` will change from 10 to 'auto' in 1.4. Set the value of `n_init` explicitly to suppress the warning\n",
      "  super()._check_params_vs_input(X, default_n_init=10)\n"
     ]
    },
    {
     "name": "stdout",
     "output_type": "stream",
     "text": [
      "[[  2  57  21]\n",
      " [  2 179 245]\n",
      " [ 28  59 184]\n",
      " [ 10 138  75]\n",
      " [129 189 226]]\n",
      "[2 2 2 ... 0 0 0]\n"
     ]
    }
   ],
   "source": [
    "n_clusters = 5\n",
    "\n",
    "img = cv.imread(r\"D:\\Opencv\\class.vision-master\\images\\felfel-dolme.jpg\")\n",
    "\n",
    "flat_img = img.reshape((-1, 3))\n",
    "\n",
    "kmeans = KMeans(n_clusters=n_clusters)\n",
    "kmeans.fit(flat_img)\n",
    "\n",
    "dominent_colors = np.array(kmeans.cluster_centers_, dtype='uint8')\n",
    "labels = kmeans.labels_\n",
    "\n",
    "print(dominent_colors)\n",
    "print(labels)"
   ]
  },
  {
   "cell_type": "code",
   "execution_count": 8,
   "id": "d6bd91a5",
   "metadata": {},
   "outputs": [
    {
     "data": {
      "text/plain": [
       "array([0.27510121, 0.33724591, 0.2107899 , 0.1491829 , 0.02768008])"
      ]
     },
     "execution_count": 8,
     "metadata": {},
     "output_type": "execute_result"
    }
   ],
   "source": [
    "percentages = np.bincount(labels)/len(flat_img)\n",
    "percentages"
   ]
  },
  {
   "cell_type": "code",
   "execution_count": 11,
   "id": "f1cd4733",
   "metadata": {},
   "outputs": [],
   "source": [
    "p_and_c = zip(percentages, dominent_colors)\n",
    "p_and_c = sorted(p_and_c, reverse=True)"
   ]
  },
  {
   "cell_type": "code",
   "execution_count": 14,
   "id": "7df6b6ca",
   "metadata": {},
   "outputs": [
    {
     "data": {
      "text/plain": [
       "([], [])"
      ]
     },
     "execution_count": 14,
     "metadata": {},
     "output_type": "execute_result"
    },
    {
     "data": {
      "image/png": "[encoded data removed]",
      "text/plain": [
       "<Figure size 1200x800 with 1 Axes>"
      ]
     },
     "metadata": {},
     "output_type": "display_data"
    }
   ],
   "source": [
    "bar = np.ones((50, 500, 3), dtype='uint8')\n",
    "plt.figure(figsize=(12,8))\n",
    "plt.title(\"Colors in image\")\n",
    "start = 0\n",
    "i = 0\n",
    "\n",
    "for p, c in p_and_c:\n",
    "    end = start + int(p*500)\n",
    "    if i == n_clusters:\n",
    "        bar[:,start:] = c[::-1]\n",
    "    else:\n",
    "        bar[:,start:end] = c[::-1]\n",
    "    start = end\n",
    "    i+=1\n",
    "    \n",
    "plt.imshow(bar)\n",
    "plt.xticks([])\n",
    "plt.yticks([])"
   ]
  },
  {
   "cell_type": "code",
   "execution_count": null,
   "id": "cd1272d0",
   "metadata": {},
   "outputs": [],
   "source": []
  }
 ],
 "metadata": {
  "kernelspec": {
   "display_name": "Python 3 (ipykernel)",
   "language": "python",
   "name": "python3"
  },
  "language_info": {
   "codemirror_mode": {
    "name": "ipython",
    "version": 3
   },
   "file_extension": ".py",
   "mimetype": "text/x-python",
   "name": "python",
   "nbconvert_exporter": "python",
   "pygments_lexer": "ipython3",
   "version": "3.11.3"
  }
 },
 "nbformat": 4,
 "nbformat_minor": 5
}
