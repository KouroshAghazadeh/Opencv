{
 "cells": [
  {
   "cell_type": "code",
   "execution_count": 1,
   "id": "74448480",
   "metadata": {},
   "outputs": [],
   "source": [
    "import cv2 as cv\n",
    "import numpy as np\n",
    "import matplotlib.pyplot as plt"
   ]
  },
  {
   "cell_type": "code",
   "execution_count": 3,
   "id": "05b4958a",
   "metadata": {},
   "outputs": [],
   "source": [
    "cap = cv.VideoCapture(r\"D:\\Opencv\\class.vision-master\\videos\\akhavan-green-bg.mp4\")\n",
    "bg_image = cv.imread(r\"D:\\Opencv\\class.vision-master\\images\\balloon.png\")\n",
    "\n",
    "w = int(cap.get(cv.CAP_PROP_FRAME_WIDTH))\n",
    "h = int(cap.get(cv.CAP_PROP_FRAME_HEIGHT))\n",
    "\n",
    "bg_image = cv.resize(bg_image, (w,h))\n",
    "\n",
    "while True:\n",
    "    ret, frame = cap.read()\n",
    "    if not ret:\n",
    "        break\n",
    "    background = bg_image.copy()\n",
    "    lab = cv.cvtColor(frame, cv.COLOR_BGR2LAB)\n",
    "    a_channel = lab[:,:,1]\n",
    "    _, th = cv.threshold(a_channel, 0, 255, cv.THRESH_BINARY+cv.THRESH_OTSU)\n",
    "    mask_green = cv.bitwise_not(th)\n",
    "    removed_bg = cv.bitwise_and(frame, frame, mask=th)\n",
    "    background = cv.bitwise_and(background, background, mask=mask_green)\n",
    "    \n",
    "    final = cv.add(removed_bg, background)\n",
    "    cv.imshow(\"result\", final)\n",
    "    cv.waitKey(25)\n",
    "    \n",
    "cap.release()\n",
    "cv.destroyAllWindows()"
   ]
  },
  {
   "cell_type": "code",
   "execution_count": null,
   "id": "18062a6e",
   "metadata": {},
   "outputs": [],
   "source": []
  }
 ],
 "metadata": {
  "kernelspec": {
   "display_name": "Python 3 (ipykernel)",
   "language": "python",
   "name": "python3"
  },
  "language_info": {
   "codemirror_mode": {
    "name": "ipython",
    "version": 3
   },
   "file_extension": ".py",
   "mimetype": "text/x-python",
   "name": "python",
   "nbconvert_exporter": "python",
   "pygments_lexer": "ipython3",
   "version": "3.11.3"
  }
 },
 "nbformat": 4,
 "nbformat_minor": 5
}
