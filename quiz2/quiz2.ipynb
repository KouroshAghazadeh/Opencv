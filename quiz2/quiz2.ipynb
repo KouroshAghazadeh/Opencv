{
 "cells": [
  {
   "cell_type": "code",
   "execution_count": 60,
   "id": "451be2ea",
   "metadata": {},
   "outputs": [],
   "source": [
    "import cv2 as cv\n",
    "import matplotlib.pyplot as plt\n",
    "import numpy as np"
   ]
  },
  {
   "cell_type": "code",
   "execution_count": 61,
   "id": "a9fb3a8c",
   "metadata": {},
   "outputs": [],
   "source": [
    "img = cv.imread(r\"D:\\Opencv\\quiz1\\avc-mpg-face-shaving-tips-stages-sp.jpg\", cv.IMREAD_UNCHANGED)\n",
    "alpha_channel = np.ones((img.shape[0], img.shape[1]), dtype='uint8') * 255\n",
    "\n",
    "imga = cv.merge([img, alpha_channel])\n",
    "cv.imshow(\"BGRA\", imga)\n",
    "cv.waitKey()\n",
    "cv.destroyAllWindows()"
   ]
  },
  {
   "cell_type": "code",
   "execution_count": 79,
   "id": "4f34ea1a",
   "metadata": {},
   "outputs": [
    {
     "data": {
      "text/plain": [
       "True"
      ]
     },
     "execution_count": 79,
     "metadata": {},
     "output_type": "execute_result"
    }
   ],
   "source": [
    "b, g, r, a = cv.split(imga)\n",
    "a[0:10, :] = 100\n",
    "a[:, 0:195] = 100\n",
    "a[650:,:] = 100\n",
    "a[:,650:] = 100\n",
    "modified_image = cv.merge([b,g,r,a])\n",
    "cv.imwrite(\"face_image_modified.png\", modified_image)"
   ]
  },
  {
   "cell_type": "code",
   "execution_count": null,
   "id": "6fa5ccda",
   "metadata": {},
   "outputs": [],
   "source": []
  }
 ],
 "metadata": {
  "kernelspec": {
   "display_name": "Python 3 (ipykernel)",
   "language": "python",
   "name": "python3"
  },
  "language_info": {
   "codemirror_mode": {
    "name": "ipython",
    "version": 3
   },
   "file_extension": ".py",
   "mimetype": "text/x-python",
   "name": "python",
   "nbconvert_exporter": "python",
   "pygments_lexer": "ipython3",
   "version": "3.11.3"
  }
 },
 "nbformat": 4,
 "nbformat_minor": 5
}
