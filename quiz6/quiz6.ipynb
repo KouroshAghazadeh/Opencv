{
 "cells": [
  {
   "cell_type": "code",
   "execution_count": 9,
   "id": "5fc6d36e",
   "metadata": {},
   "outputs": [],
   "source": [
    "import cv2 as cv\n",
    "import matplotlib.pyplot as plt\n",
    "import numpy as np"
   ]
  },
  {
   "cell_type": "code",
   "execution_count": 10,
   "id": "b88801fa",
   "metadata": {},
   "outputs": [],
   "source": [
    "def nothing(x):\n",
    "    pass\n",
    "\n",
    "img = np.zeros((680,680,3), 'uint8')\n",
    "cv.namedWindow('image')\n",
    "cv.createTrackbar('Red', 'image', 0, 255, nothing)\n",
    "cv.createTrackbar('Green', 'image', 0, 255, nothing)\n",
    "cv.createTrackbar('Blue', 'image', 0, 255, nothing)\n",
    "cv.createTrackbar('Thickness', 'image', 1, 10, nothing)\n",
    "\n",
    "drawing = False\n",
    "ix = 0\n",
    "iy = 0\n",
    "\n",
    "\n",
    "def draw_line(event, x, y, flags, param):\n",
    "    global ix, iy, drawing\n",
    "    \n",
    "    if event == cv.EVENT_LBUTTONDOWN:\n",
    "        drawing = True\n",
    "        ix = x\n",
    "        iy = y\n",
    "    if event == cv.EVENT_MOUSEMOVE:\n",
    "        if drawing == True:\n",
    "            cv.line(img, pt1 = (ix, iy), pt2=(x,y), color=(b, g, r), thickness=t)\n",
    "            ix = x\n",
    "            iy = y\n",
    "    if event == cv.EVENT_LBUTTONUP:\n",
    "        drawing = False\n",
    "        \n",
    "\n",
    "        \n",
    "cv.setMouseCallback(\"image\", draw_line)\n",
    "\n",
    "while True:\n",
    "    cv.imshow(\"image\", img)\n",
    "    if cv.waitKey(1) & 0xFF == 27:\n",
    "        break\n",
    "    r = cv.getTrackbarPos('Red', 'image')\n",
    "    g = cv.getTrackbarPos('Green', 'image')\n",
    "    b = cv.getTrackbarPos('Blue', 'image')\n",
    "    t = cv.getTrackbarPos('Thickness', 'image')\n",
    "cv.destroyAllWindows()"
   ]
  },
  {
   "cell_type": "code",
   "execution_count": null,
   "id": "7649178f",
   "metadata": {},
   "outputs": [],
   "source": []
  }
 ],
 "metadata": {
  "kernelspec": {
   "display_name": "Python 3 (ipykernel)",
   "language": "python",
   "name": "python3"
  },
  "language_info": {
   "codemirror_mode": {
    "name": "ipython",
    "version": 3
   },
   "file_extension": ".py",
   "mimetype": "text/x-python",
   "name": "python",
   "nbconvert_exporter": "python",
   "pygments_lexer": "ipython3",
   "version": "3.11.3"
  }
 },
 "nbformat": 4,
 "nbformat_minor": 5
}
