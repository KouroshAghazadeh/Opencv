{
 "cells": [
  {
   "cell_type": "code",
   "execution_count": 1,
   "id": "f266b5e4",
   "metadata": {},
   "outputs": [],
   "source": [
    "import cv2 as cv\n",
    "import numpy as np\n",
    "import matplotlib.pyplot as plt"
   ]
  },
  {
   "cell_type": "code",
   "execution_count": 2,
   "id": "19b149fe",
   "metadata": {},
   "outputs": [],
   "source": [
    "from PIL import  ImageGrab\n",
    "while True:\n",
    "    frame = np.array(ImageGrab.grab())\n",
    "    \n",
    "    cv.imshow('Screen', cv.cvtColor(frame, cv.COLOR_BGR2RGB))\n",
    "    \n",
    "    if cv.waitKey(1) & 0xFF == 27:\n",
    "        break\n",
    "\n",
    "cv.destroyAllWindows()"
   ]
  },
  {
   "cell_type": "code",
   "execution_count": 3,
   "id": "fd45df59",
   "metadata": {},
   "outputs": [],
   "source": [
    "screen_img = ImageGrab.grab()\n",
    "screen_img.save('screen.jpg')"
   ]
  },
  {
   "cell_type": "code",
   "execution_count": 4,
   "id": "44e870bd",
   "metadata": {},
   "outputs": [],
   "source": [
    "from PIL import  ImageGrab\n",
    "while True:\n",
    "    frame = np.array(ImageGrab.grab(bbox=(500,500,1000,1000)))\n",
    "    \n",
    "    cv.imshow('Screen', cv.cvtColor(frame, cv.COLOR_BGR2RGB))\n",
    "    \n",
    "    if cv.waitKey(1) & 0xFF == 27:\n",
    "        break\n",
    "\n",
    "cv.destroyAllWindows()"
   ]
  },
  {
   "cell_type": "code",
   "execution_count": 7,
   "id": "29f4a27a",
   "metadata": {},
   "outputs": [],
   "source": [
    "from mss import mss\n",
    "import time\n",
    "\n",
    "bounding_box = {'top': 100, 'left': 50, 'width': 400, 'height': 300}\n",
    "sct = mss()\n",
    "\n",
    "while True:\n",
    "    sct_img = sct.grab(bounding_box)\n",
    "    cv.imshow('screen', np.array(sct_img))\n",
    "    \n",
    "    if cv.waitKey(1) & 0xFF == 27:\n",
    "        break\n",
    "        \n",
    "cv.destroyAllWindows()"
   ]
  },
  {
   "cell_type": "code",
   "execution_count": null,
   "id": "ee578cc0",
   "metadata": {},
   "outputs": [],
   "source": []
  }
 ],
 "metadata": {
  "kernelspec": {
   "display_name": "Python 3 (ipykernel)",
   "language": "python",
   "name": "python3"
  },
  "language_info": {
   "codemirror_mode": {
    "name": "ipython",
    "version": 3
   },
   "file_extension": ".py",
   "mimetype": "text/x-python",
   "name": "python",
   "nbconvert_exporter": "python",
   "pygments_lexer": "ipython3",
   "version": "3.11.3"
  }
 },
 "nbformat": 4,
 "nbformat_minor": 5
}
