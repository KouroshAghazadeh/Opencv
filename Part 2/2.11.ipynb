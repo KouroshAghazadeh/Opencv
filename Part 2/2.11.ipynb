{
 "cells": [
  {
   "cell_type": "code",
   "execution_count": 1,
   "id": "6d5ee59f",
   "metadata": {},
   "outputs": [],
   "source": [
    "import cv2 as cv\n",
    "import pafy"
   ]
  },
  {
   "cell_type": "code",
   "execution_count": null,
   "id": "f05bec3c",
   "metadata": {},
   "outputs": [],
   "source": [
    "url = "
   ]
  }
 ],
 "metadata": {
  "kernelspec": {
   "display_name": "Python 3 (ipykernel)",
   "language": "python",
   "name": "python3"
  },
  "language_info": {
   "codemirror_mode": {
    "name": "ipython",
    "version": 3
   },
   "file_extension": ".py",
   "mimetype": "text/x-python",
   "name": "python",
   "nbconvert_exporter": "python",
   "pygments_lexer": "ipython3",
   "version": "3.11.3"
  }
 },
 "nbformat": 4,
 "nbformat_minor": 5
}
