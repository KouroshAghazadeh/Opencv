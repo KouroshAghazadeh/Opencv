{
 "cells": [
  {
   "cell_type": "code",
   "execution_count": 8,
   "id": "77510d82",
   "metadata": {},
   "outputs": [],
   "source": [
    "import cv2 as cv\n",
    "import numpy as np\n",
    "import matplotlib.pyplot as plt"
   ]
  },
  {
   "cell_type": "code",
   "execution_count": 15,
   "id": "36e5b775",
   "metadata": {},
   "outputs": [
    {
     "name": "stdout",
     "output_type": "stream",
     "text": [
      "Exiting ...\n"
     ]
    }
   ],
   "source": [
    "cap = cv.VideoCapture(r\"D:\\Opencv\\class.vision-master\\videos\\race_car.mp4\")\n",
    "\n",
    "while True:\n",
    "    ret, frame = cap.read()\n",
    "    \n",
    "    if not ret:\n",
    "        print(\"Exiting ...\")\n",
    "        break\n",
    "    cv.imshow('video', frame)\n",
    "    if cv.waitKey(30) & 0xFF == 27:\n",
    "        break\n",
    "        \n",
    "cap.release()\n",
    "cv.destroyAllWindows()"
   ]
  },
  {
   "cell_type": "code",
   "execution_count": 16,
   "id": "de1a53e0",
   "metadata": {},
   "outputs": [],
   "source": [
    "cap = cv.VideoCapture(r\"D:\\Opencv\\class.vision-master\\videos\\race_car.mp4\")\n",
    "\n",
    "while True:\n",
    "    ret, frame = cap.read()\n",
    "    \n",
    "    if not ret:\n",
    "        print(\"Exiting ...\")\n",
    "        break\n",
    "    gray = cv.cvtColor(frame, cv.COLOR_BGR2GRAY)\n",
    "    cv.imshow('video', gray)\n",
    "    if cv.waitKey(30) & 0xFF == 27:\n",
    "        break\n",
    "        \n",
    "cap.release()\n",
    "cv.destroyAllWindows()"
   ]
  },
  {
   "cell_type": "code",
   "execution_count": 18,
   "id": "b1294e53",
   "metadata": {},
   "outputs": [
    {
     "name": "stdout",
     "output_type": "stream",
     "text": [
      "0.0\n",
      "0.0\n",
      "0.0016666666666666668\n",
      "1728.0\n",
      "1080.0\n",
      "30.0\n",
      "875967080.0\n",
      "210.0\n",
      "0.0\n",
      "0.0\n"
     ]
    }
   ],
   "source": [
    "cap = cv.VideoCapture(r\"D:\\Opencv\\class.vision-master\\videos\\race_car.mp4\")\n",
    "\n",
    "for i in range(0,10):\n",
    "    print(cap.get(i))"
   ]
  },
  {
   "cell_type": "code",
   "execution_count": 19,
   "id": "73a662bb",
   "metadata": {},
   "outputs": [
    {
     "name": "stdout",
     "output_type": "stream",
     "text": [
      "Width: 1728.0\n",
      "Height: 1080.0\n",
      "FPS: 30.0\n"
     ]
    }
   ],
   "source": [
    "print(\"Width:\", cap.get(cv.CAP_PROP_FRAME_WIDTH))\n",
    "print(\"Height:\", cap.get(cv.CAP_PROP_FRAME_HEIGHT))\n",
    "print(\"FPS:\", cap.get(cv.CAP_PROP_FPS))"
   ]
  },
  {
   "cell_type": "code",
   "execution_count": null,
   "id": "5de40ad6",
   "metadata": {},
   "outputs": [],
   "source": []
  }
 ],
 "metadata": {
  "kernelspec": {
   "display_name": "Python 3 (ipykernel)",
   "language": "python",
   "name": "python3"
  },
  "language_info": {
   "codemirror_mode": {
    "name": "ipython",
    "version": 3
   },
   "file_extension": ".py",
   "mimetype": "text/x-python",
   "name": "python",
   "nbconvert_exporter": "python",
   "pygments_lexer": "ipython3",
   "version": "3.11.3"
  }
 },
 "nbformat": 4,
 "nbformat_minor": 5
}
